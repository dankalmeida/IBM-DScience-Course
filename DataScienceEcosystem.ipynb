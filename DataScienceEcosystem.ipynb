{
 "cells": [
  {
   "cell_type": "markdown",
   "id": "6fc5921e-ce75-4864-84a7-b5a0c24d21a9",
   "metadata": {},
   "source": [
    "# Data Science Tools and Ecosystem"
   ]
  },
  {
   "cell_type": "markdown",
   "id": "22d094c6-8b49-4e2a-b1f3-faa36721e899",
   "metadata": {},
   "source": [
    "#### In this notebook, Data Science Tools and Ecosystem are summarized."
   ]
  },
  {
   "cell_type": "markdown",
   "id": "3aef54bb-0646-412c-808c-75b316302efa",
   "metadata": {},
   "source": [
    "#### **Objectives**:\n",
    "\n",
    "- List popular languages for Data Science\n",
    "- List commonly used libraries used by Data Scientists\n",
    "- List open source tools used in data science\n",
    "- Create a code cell to multiply and add numbers"
   ]
  },
  {
   "cell_type": "markdown",
   "id": "a49f6358-c1ee-484b-9d62-a8d6b2a41e85",
   "metadata": {},
   "source": [
    "##### Some of the popular languages that Data Scientists use are:\n",
    "\n",
    "1. Python\n",
    "2. R\n",
    "3. SQL\n",
    "4. Java\n",
    "5. Julia\n"
   ]
  },
  {
   "cell_type": "markdown",
   "id": "4d932cc2-da8a-4e57-afe6-86e1a3087be4",
   "metadata": {},
   "source": [
    "##### Some of the commonly used libraries used by Data Scientists include:\n",
    "\n",
    "1. Pandas\n",
    "2. NumPy\n",
    "3. Matplotlib\n",
    "4. Seaborn\n",
    "5. Tensorflow\n",
    "\n"
   ]
  },
  {
   "cell_type": "markdown",
   "id": "15baf26a-acb6-4044-964a-1f21059a5cfc",
   "metadata": {},
   "source": [
    "| Data Science Tools |\n",
    "| ---- |\n",
    "| Python |\n",
    "| Jupyter Notebook |\n",
    "| GitHub |\n",
    "\n"
   ]
  },
  {
   "cell_type": "markdown",
   "id": "4f99c594-89c1-4af5-ad03-807bfb68726d",
   "metadata": {},
   "source": [
    "### Below are a few examples of evaluating arithmetic expressions in Python:\n",
    "##### \n",
    "3 + 2\n",
    "----\n",
    "5\n",
    "\n",
    "10 - 8\n",
    "----\n",
    "2\n",
    "\n",
    "10 * 2\n",
    "----\n",
    "20"
   ]
  },
  {
   "cell_type": "markdown",
   "id": "645e17be-3f92-4ae4-9acc-0d58ee5e9103",
   "metadata": {},
   "source": [
    "### This a simple arithmetic expression to mutiply then add integers:"
   ]
  },
  {
   "cell_type": "code",
   "execution_count": 2,
   "id": "5be459a1-8cba-4d4d-8386-bacd7ac177b5",
   "metadata": {},
   "outputs": [
    {
     "data": {
      "text/plain": [
       "17"
      ]
     },
     "execution_count": 2,
     "metadata": {},
     "output_type": "execute_result"
    }
   ],
   "source": [
    "(3*4)+5"
   ]
  },
  {
   "cell_type": "markdown",
   "id": "bb9ae7d6-bba9-49d8-8196-9103ef2c5773",
   "metadata": {},
   "source": [
    "### This will convert 200 minutes to hours by diving by 60:"
   ]
  },
  {
   "cell_type": "code",
   "execution_count": 3,
   "id": "ed1a37e3-eb79-4441-86a0-1dfabc665891",
   "metadata": {},
   "outputs": [
    {
     "data": {
      "text/plain": [
       "3.3333333333333335"
      ]
     },
     "execution_count": 3,
     "metadata": {},
     "output_type": "execute_result"
    }
   ],
   "source": [
    "200 / 60"
   ]
  },
  {
   "cell_type": "markdown",
   "id": "4a6f6ee5-bd7a-4d20-8a24-5875c88f1171",
   "metadata": {},
   "source": [
    "## Author \n",
    "Daniel Almeida"
   ]
  }
 ],
 "metadata": {
  "kernelspec": {
   "display_name": "Python 3 (ipykernel)",
   "language": "python",
   "name": "python3"
  },
  "language_info": {
   "codemirror_mode": {
    "name": "ipython",
    "version": 3
   },
   "file_extension": ".py",
   "mimetype": "text/x-python",
   "name": "python",
   "nbconvert_exporter": "python",
   "pygments_lexer": "ipython3",
   "version": "3.12.5"
  }
 },
 "nbformat": 4,
 "nbformat_minor": 5
}
